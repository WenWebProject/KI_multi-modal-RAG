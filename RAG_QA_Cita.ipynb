{
 "cells": [
  {
   "cell_type": "code",
   "execution_count": null,
   "id": "44bbb626",
   "metadata": {},
   "outputs": [],
   "source": [
    "# Build the Retrieval QA Chain with proper citations\n",
    "# Read Resource 1. <How to get your RAG application to return sources?> (https://python.langchain.com/docs/how_to/qa_sources/)\n",
    "\n",
    "\n",
    "# 1. use LangSmith\n",
    "import getpass\n",
    "import os\n",
    "\n",
    "os.environ[\"LANGSMITH_TRACING\"] = \"true\"\n",
    "os.environ[\"LANGSMITH_API_KEY\"] = getpass.getpass()"
   ]
  },
  {
   "cell_type": "code",
   "execution_count": 2,
   "id": "8de69ef0",
   "metadata": {},
   "outputs": [],
   "source": [
    "# Configure environment to connect to LangSmith.\n",
    "os.environ[\"LANGSMITH_TRACING\"] = \"true\"\n",
    "os.environ[\"LANGSMITH_ENDPOINT\"]=\"https://api.smith.langchain.com\"\n",
    "os.environ[\"LANGSMITH_PROJECT\"]=\"KI_multi-modal-RAG\""
   ]
  },
  {
   "cell_type": "code",
   "execution_count": 3,
   "id": "d6f5d52f",
   "metadata": {},
   "outputs": [],
   "source": [
    "# 4. Components\n",
    "# 4.1 Select chat model: Google Gemini\n",
    "\n",
    "import getpass\n",
    "import os\n",
    "\n",
    "if not os.environ.get(\"GOOGLE_API_KEY\"):\n",
    "  os.environ[\"GOOGLE_API_KEY\"] = getpass.getpass(\"Enter API key for Google Gemini: \")\n",
    "\n",
    "from langchain.chat_models import init_chat_model\n",
    "\n",
    "llm = init_chat_model(\"gemini-2.0-flash\", model_provider=\"google_genai\")\n"
   ]
  },
  {
   "cell_type": "code",
   "execution_count": 4,
   "id": "b434e3e1",
   "metadata": {},
   "outputs": [],
   "source": [
    "# 4.2 Select embedding model: HuggingFace\n",
    "from langchain_huggingface import HuggingFaceEmbeddings\n",
    "\n",
    "embeddings = HuggingFaceEmbeddings(model_name=\"sentence-transformers/all-mpnet-base-v2\")"
   ]
  },
  {
   "cell_type": "code",
   "execution_count": 5,
   "id": "44d66bc5",
   "metadata": {},
   "outputs": [],
   "source": [
    "# 4.3 Select vector store: Chroma (install and upgrade langchain_chroma)\n",
    "from langchain_chroma import Chroma\n",
    "\n",
    "vector_store = Chroma(\n",
    "    collection_name=\"example_collection\",\n",
    "    embedding_function=embeddings,\n",
    "    persist_directory=\"./chroma_langchain_db\",  # Where to save data locally, remove if not necessary\n",
    ")"
   ]
  },
  {
   "cell_type": "code",
   "execution_count": 6,
   "id": "62100062",
   "metadata": {},
   "outputs": [
    {
     "name": "stdout",
     "output_type": "stream",
     "text": [
      "Loaded 4419 chunks from 1347 pages across 22 PDF files.\n"
     ]
    }
   ],
   "source": [
    "# RAG application: reconstruct the Q&A app with sources\n",
    "# 1. index our documents:\n",
    "\n",
    "from langchain.document_loaders import PyPDFLoader\n",
    "from langchain.text_splitter import RecursiveCharacterTextSplitter\n",
    "\n",
    "# Load PDF files from a folder\n",
    "import os\n",
    "folder_path = r\"D:\\4-IntoCode\\16_LangChain\\AgilProjekt_multiModel\\Raw_Data\\Apple\"  # company folder, Use raw string\n",
    "all_docs = []\n",
    "\n",
    "for file in os.listdir(folder_path):\n",
    "    if file.endswith(\".pdf\"):\n",
    "        loader = PyPDFLoader(os.path.join(folder_path, file))\n",
    "        pages = loader.load_and_split()\n",
    "        all_docs.extend(pages)\n",
    "\n",
    "# Split into chunks\n",
    "splitter = RecursiveCharacterTextSplitter(chunk_size=1000, chunk_overlap=200)\n",
    "docs = splitter.split_documents(all_docs)\n",
    "print(f\"Loaded {len(docs)} chunks from {len(all_docs)} pages across {len(os.listdir(folder_path))} PDF files.\")\n",
    "# Result: \"Loaded 4419 chunks from 1347 pages across 22 PDF files.\n"
   ]
  },
  {
   "cell_type": "code",
   "execution_count": 7,
   "id": "ec1db697",
   "metadata": {},
   "outputs": [],
   "source": [
    "# Index chunks\n",
    "_ = vector_store.add_documents(documents=docs)"
   ]
  },
  {
   "cell_type": "code",
   "execution_count": 8,
   "id": "66b057d9",
   "metadata": {},
   "outputs": [],
   "source": [
    "# 2. Next we build the RAG application:\n",
    "from langchain import hub\n",
    "from langchain_core.documents import Document\n",
    "from langgraph.graph import START, StateGraph\n",
    "from typing_extensions import List, TypedDict\n",
    "\n",
    "# Define prompt for question-answering\n",
    "prompt = hub.pull(\"rlm/rag-prompt\")\n",
    "\n",
    "\n",
    "# Define state for application\n",
    "class State(TypedDict):\n",
    "    question: str\n",
    "    context: List[Document]\n",
    "    answer: str\n",
    "\n",
    "\n",
    "# Define application steps\n",
    "def retrieve(state: State):\n",
    "    retrieved_docs = vector_store.similarity_search(state[\"question\"])\n",
    "    return {\"context\": retrieved_docs}\n",
    "\n",
    "\n",
    "def generate(state: State):\n",
    "    docs_content = \"\\n\\n\".join(doc.page_content for doc in state[\"context\"])\n",
    "    messages = prompt.invoke({\"question\": state[\"question\"], \"context\": docs_content})\n",
    "    response = llm.invoke(messages)\n",
    "    return {\"answer\": response.content}\n",
    "\n",
    "\n",
    "# Compile application and test\n",
    "graph_builder = StateGraph(State).add_sequence([retrieve, generate])\n",
    "graph_builder.add_edge(START, \"retrieve\")\n",
    "graph = graph_builder.compile()"
   ]
  },
  {
   "cell_type": "code",
   "execution_count": 9,
   "id": "2f2b54ad",
   "metadata": {},
   "outputs": [
    {
     "data": {
      "image/png": "[encoded data removed]",
      "text/plain": [
       "<IPython.core.display.Image object>"
      ]
     },
     "metadata": {},
     "output_type": "display_data"
    }
   ],
   "source": [
    "from IPython.display import Image, display\n",
    "\n",
    "display(Image(graph.get_graph().draw_mermaid_png()))"
   ]
  },
  {
   "cell_type": "code",
   "execution_count": 10,
   "id": "8e813e07",
   "metadata": {},
   "outputs": [
    {
     "name": "stdout",
     "output_type": "stream",
     "text": [
      "Context: [Document(id='0179636d-5f4c-4a03-af7d-57a921dbdde3', metadata={'author': 'EDGAR® Online LLC, a subsidiary of OTC Markets Group', 'creationdate': '2024-11-01T06:05:37-04:00', 'creator': 'EDGAR Filing HTML Converter', 'keywords': '0000320193-24-000123; ; 10-K', 'moddate': '2024-11-01T06:06:09-04:00', 'page': 37, 'page_label': '38', 'producer': 'EDGRpdf Service w/ EO.Pdf 22.0.40.0', 'source': 'D:\\\\4-IntoCode\\\\16_LangChain\\\\AgilProjekt_multiModel\\\\Raw_Data\\\\Apple\\\\10-K-2024.pdf', 'subject': 'Form 10-K filed on 2024-11-01 for the period ending 2024-09-28', 'title': '0000320193-24-000123', 'total_pages': 121}, page_content='Total net sales $ 391,035 $ 383,285 $ 394,328 \\n(1) Services net sales include amortization of the deferred value of services bundled in the sales price of certain products.\\nTotal net sales include $7.7 billion of revenue recognized in 2024 that was included in deferred revenue as of September 30, 2023, $8.2 billion of revenuerecognized in 2023 that was included in deferred revenue as of September 24, 2022, and $7.5 billion of revenue recognized in 2022 that was included indeferred revenue as of September 25, 2021.\\n® ®\\n(1)\\nApple Inc. | 2024 Form 10-K | 35'), Document(id='5266b8c1-a6c1-468f-8a95-ddd18341c7eb', metadata={'author': 'anonymous', 'creationdate': '2022-10-27T16:05:06+00:00', 'creator': 'Workiva', 'moddate': '2022-10-27T16:05:06+00:00', 'page': 39, 'page_label': '40', 'producer': 'Wdesk Fidelity Content Translations Version 006.012.078', 'source': 'D:\\\\4-IntoCode\\\\16_LangChain\\\\AgilProjekt_multiModel\\\\Raw_Data\\\\Apple\\\\10-K-2022.pdf', 'title': '10-K 2022, 09.24.2022-2022-10-27-08-59', 'total_pages': 80}, page_content='2022 2021 2020\\niPhone (1) $ 205,489 $ 191,973 $ 137,781 \\nMac (1)  40,177  35,190  28,622 \\niPad (1)  29,292  31,862  23,724 \\nWearables, Home and Accessories (1)(2)  41,241  38,367  30,620 \\nServices (3)  78,129  68,425  53,768 \\nTotal net sales (4) $ 394,328 $ 365,817 $ 274,515 \\n(1) Products net sales include amortization of the deferred value of unspecified software upgrade rights, which are bundled in \\nthe sales price of the respective product.\\n(2) Wearables, Home and Accessories net sales include sales of AirPods, Apple TV, Apple Watch, Beats products, HomePod \\nmini and accessories.\\n(3) Services net sales include sales from the Company’s advertising, AppleCare, cloud, digital content, payment and other \\nservices. Services net sales also include amortization of the deferred value of services bundled in the sales price of certain \\nproducts.\\n(4) Includes $7.5 billion of revenue recognized in 2022 that was included in deferred revenue as of September\\xa025, 2021, $6.7'), Document(id='bcedba58-6cae-4669-8d9e-e446dbc651af', metadata={'author': 'EDGAR Online, a division of Donnelley Financial Solutions', 'creationdate': '2020-10-30T06:06:16-04:00', 'creator': 'EDGAR PDF Generator', 'keywords': '0000320193-20-000096; ; 10-K', 'moddate': '2020-10-30T06:06:26-04:00', 'page': 41, 'page_label': '42', 'producer': 'EDGAR PDF Generator', 'source': 'D:\\\\4-IntoCode\\\\16_LangChain\\\\AgilProjekt_multiModel\\\\Raw_Data\\\\Apple\\\\10-K-2020.pdf', 'subject': '10-K', 'title': '0000320193-20-000096', 'total_pages': 105}, page_content='were as follows (in millions):2020 2019 2018 iPhone$ 137,781 $142,381 $164,888 Mac 28,622 25,740 25,198 iPad23,724 21,280 18,380 Wearables, Home and Accessories 30,620 24,482 17,381 Services 53,768 46,291 39,748 Total net sales $ 274,515 $260,174 $265,595 (1)Products net sales include amortization of the deferred value of unspecified software upgrade rights, which are bundled in the sales price of the respectiveproduct.(2)Wearables, Home and Accessories net sales include sales of AirPods, Apple TV, Apple Watch, Beats products, HomePod, iPod touch and Apple-brandedand third-party accessories.(3)Services  net  sales  include  sales  from  the  Company’s  advertising,  AppleCare,  digital  content  and  other  services.  Services  net  sales  also  includeamortization of the deferred value of Maps, Siri, and free iCloud storage and Apple TV+ services, which are bundled in the sales price of certain products.(4)Includes $5.0 billion of revenue recognized in 2020 that was included in'), Document(id='7c6c84a7-19e7-488d-bbb4-e975dacd7137', metadata={'author': 'EDGAR Online, a division of Donnelley Financial Solutions', 'creationdate': '2020-05-01T06:45:45-04:00', 'creator': 'EDGAR PDF Generator', 'keywords': '0000320193-20-000052; ; 10-Q', 'moddate': '2020-05-01T06:45:54-04:00', 'page': 10, 'page_label': '11', 'producer': 'EDGAR PDF Generator', 'source': 'D:\\\\4-IntoCode\\\\16_LangChain\\\\AgilProjekt_multiModel\\\\Raw_Data\\\\Apple\\\\10-Q-Q2-2020.pdf', 'subject': '10-Q', 'title': '0000320193-20-000052', 'total_pages': 43}, page_content='(1)5,351 \\xa05,513\\xa012,511\\xa012,929iPad (1)4,368 \\xa04,872\\xa010,345\\xa011,601Wearables, Home and Accessories (1)(2) 6,284 \\xa05,129\\xa016,294\\xa012,437Services (3)13,348 \\xa011,450\\xa026,063\\xa022,325Total net sales (4) $ 58,313\\xa0$58,015\\xa0$150,132\\xa0$142,325(1)Products net sales include amortization of the deferred value of unspecified software upgrade rights, which are bundled in the sales price of the respective product.(2)Wearables, Home and Accessories net sales include sales of AirPods®, Apple TV®, Apple Watch®, Beats® products, HomePod™, iPod touch® and Apple-brandedand third-party accessories.(3)Services net sales include sales from the Company’s digital content stores and streaming services, AppleCare®, licensing and other services. Services net sales alsoinclude amortization of the deferred value of Maps, Siri, and free iCloud storage and Apple TV + services, which are bundled in the sales price of certain products.(4)Includes $1.9 billion of revenue recognized in the three months ended March 28, 2020  that was')]\n",
      "\n",
      "\n",
      "Answer: In 2020, Apple Inc.'s total net sales were $274,515 million. This figure includes $5.0 billion of revenue recognized in 2020 that was included in deferred revenue. The total net sales consist of iPhone, Mac, iPad, Wearables, Home and Accessories, and Services.\n"
     ]
    }
   ],
   "source": [
    "# Because we're tracking the retrieved context in our application's state, \n",
    "# it is accessible after invoking the application:\n",
    "\n",
    "result = graph.invoke({\"question\": \"What is Total net sales in 2020 in Apple Inc.?\"})\n",
    "\n",
    "print(f'Context: {result[\"context\"]}\\n\\n')\n",
    "print(f'Answer: {result[\"answer\"]}')"
   ]
  },
  {
   "cell_type": "code",
   "execution_count": null,
   "id": "1f196345",
   "metadata": {},
   "outputs": [],
   "source": []
  },
  {
   "cell_type": "code",
   "execution_count": null,
   "id": "2ed67873",
   "metadata": {},
   "outputs": [],
   "source": []
  },
  {
   "cell_type": "code",
   "execution_count": null,
   "id": "bf2d7299",
   "metadata": {},
   "outputs": [],
   "source": []
  },
  {
   "cell_type": "code",
   "execution_count": null,
   "id": "8061015b",
   "metadata": {},
   "outputs": [],
   "source": [
    "# Read Resource 2. <How to get a RAG application to add citations?> (https://python.langchain.com/docs/how_to/qa_citations/)\n",
    "\n"
   ]
  },
  {
   "cell_type": "code",
   "execution_count": null,
   "id": "458652ae",
   "metadata": {},
   "outputs": [],
   "source": []
  },
  {
   "cell_type": "code",
   "execution_count": null,
   "id": "4caf181d",
   "metadata": {},
   "outputs": [],
   "source": []
  },
  {
   "cell_type": "code",
   "execution_count": null,
   "id": "024c4b0d",
   "metadata": {},
   "outputs": [],
   "source": []
  },
  {
   "cell_type": "code",
   "execution_count": null,
   "id": "062f8e00",
   "metadata": {},
   "outputs": [],
   "source": []
  },
  {
   "cell_type": "code",
   "execution_count": null,
   "id": "cb65b1bc",
   "metadata": {},
   "outputs": [],
   "source": []
  },
  {
   "cell_type": "code",
   "execution_count": null,
   "id": "1404f2cc",
   "metadata": {},
   "outputs": [],
   "source": []
  }
 ],
 "metadata": {
  "kernelspec": {
   "display_name": "Python 3",
   "language": "python",
   "name": "python3"
  },
  "language_info": {
   "codemirror_mode": {
    "name": "ipython",
    "version": 3
   },
   "file_extension": ".py",
   "mimetype": "text/x-python",
   "name": "python",
   "nbconvert_exporter": "python",
   "pygments_lexer": "ipython3",
   "version": "3.13.0"
  }
 },
 "nbformat": 4,
 "nbformat_minor": 5
}
