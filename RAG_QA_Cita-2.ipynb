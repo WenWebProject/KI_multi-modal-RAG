{
 "cells": [
  {
   "cell_type": "code",
   "execution_count": 1,
   "id": "44bbb626",
   "metadata": {},
   "outputs": [],
   "source": [
    "# Build the Retrieval QA Chain with proper citations\n",
    "# Read Resource 1. <How to get your RAG application to return sources?> (https://python.langchain.com/docs/how_to/qa_sources/)\n",
    "\n",
    "\n",
    "# 1. use LangSmith\n",
    "import getpass\n",
    "import os\n",
    "\n",
    "os.environ[\"LANGSMITH_TRACING\"] = \"true\"\n",
    "os.environ[\"LANGSMITH_API_KEY\"] = getpass.getpass()"
   ]
  },
  {
   "cell_type": "code",
   "execution_count": 2,
   "id": "8de69ef0",
   "metadata": {},
   "outputs": [],
   "source": [
    "# Configure environment to connect to LangSmith.\n",
    "os.environ[\"LANGSMITH_TRACING\"] = \"true\"\n",
    "os.environ[\"LANGSMITH_ENDPOINT\"]=\"https://api.smith.langchain.com\"\n",
    "os.environ[\"LANGSMITH_PROJECT\"]=\"KI_multi-modal-RAG\""
   ]
  },
  {
   "cell_type": "code",
   "execution_count": 3,
   "id": "d6f5d52f",
   "metadata": {},
   "outputs": [],
   "source": [
    "# 4. Components\n",
    "# 4.1 Select chat model: Google Gemini\n",
    "\n",
    "import getpass\n",
    "import os\n",
    "\n",
    "if not os.environ.get(\"GOOGLE_API_KEY\"):\n",
    "  os.environ[\"GOOGLE_API_KEY\"] = getpass.getpass(\"Enter API key for Google Gemini: \")\n",
    "\n",
    "from langchain.chat_models import init_chat_model\n",
    "\n",
    "llm = init_chat_model(\"gemini-2.0-flash\", model_provider=\"google_genai\")\n"
   ]
  },
  {
   "cell_type": "code",
   "execution_count": 4,
   "id": "b434e3e1",
   "metadata": {},
   "outputs": [],
   "source": [
    "# 4.2 Select embedding model: HuggingFace\n",
    "from langchain_huggingface import HuggingFaceEmbeddings\n",
    "\n",
    "embeddings = HuggingFaceEmbeddings(model_name=\"sentence-transformers/all-mpnet-base-v2\")"
   ]
  },
  {
   "cell_type": "code",
   "execution_count": 5,
   "id": "44d66bc5",
   "metadata": {},
   "outputs": [],
   "source": [
    "# 4.3 Select vector store: Chroma (install and upgrade langchain_chroma)\n",
    "from langchain_chroma import Chroma\n",
    "\n",
    "vector_store = Chroma(\n",
    "    collection_name=\"example_collection\",\n",
    "    embedding_function=embeddings,\n",
    "    persist_directory=\"./chroma_langchain_db\",  # Where to save data locally, remove if not necessary\n",
    ")"
   ]
  },
  {
   "cell_type": "code",
   "execution_count": 6,
   "id": "62100062",
   "metadata": {},
   "outputs": [
    {
     "name": "stdout",
     "output_type": "stream",
     "text": [
      "Loaded 4419 chunks from 1347 pages across 22 PDF files.\n"
     ]
    }
   ],
   "source": [
    "# RAG application: reconstruct the Q&A app with sources\n",
    "# 1. index our documents:\n",
    "\n",
    "from langchain.document_loaders import PyPDFLoader\n",
    "from langchain.text_splitter import RecursiveCharacterTextSplitter\n",
    "\n",
    "# Load PDF files from a folder\n",
    "import os\n",
    "folder_path = r\"D:\\4-IntoCode\\16_LangChain\\AgilProjekt_multiModel\\Raw_Data\\Apple\"  # company folder, Use raw string\n",
    "all_docs = []\n",
    "\n",
    "for file in os.listdir(folder_path):\n",
    "    if file.endswith(\".pdf\"):\n",
    "        loader = PyPDFLoader(os.path.join(folder_path, file))\n",
    "        pages = loader.load_and_split()\n",
    "        all_docs.extend(pages)\n",
    "\n",
    "# Split into chunks\n",
    "splitter = RecursiveCharacterTextSplitter(chunk_size=1000, chunk_overlap=200)\n",
    "docs = splitter.split_documents(all_docs)\n",
    "print(f\"Loaded {len(docs)} chunks from {len(all_docs)} pages across {len(os.listdir(folder_path))} PDF files.\")\n",
    "# Result: \"Loaded 4419 chunks from 1347 pages across 22 PDF files.\n"
   ]
  },
  {
   "cell_type": "code",
   "execution_count": 7,
   "id": "ec1db697",
   "metadata": {},
   "outputs": [],
   "source": [
    "# Index chunks\n",
    "_ = vector_store.add_documents(documents=docs)"
   ]
  },
  {
   "cell_type": "code",
   "execution_count": 47,
   "id": "8d6e5abd",
   "metadata": {},
   "outputs": [],
   "source": [
    "# Build the application: generate an answer with list of sources.(von Artikel_1)\n",
    "from langchain import hub\n",
    "from langchain_core.documents import Document\n",
    "from langgraph.graph import START, StateGraph\n",
    "from typing_extensions import List, TypedDict\n",
    "\n",
    "# Define prompt for question-answering\n",
    "prompt = hub.pull(\"rlm/rag-prompt\")\n",
    "\n",
    "# New part than RAG_App_Version_1(15.05)\n",
    "from typing import List\n",
    "from typing_extensions import Annotated, TypedDict\n",
    "\n",
    "\n",
    "# Desired schema for response\n",
    "class AnswerWithSources(TypedDict):\n",
    "    \"\"\"An answer to the question, with sources.\"\"\"\n",
    "\n",
    "    answer: str\n",
    "    sources: Annotated[\n",
    "        List[str],\n",
    "        ...,\n",
    "        \"List of sources (author + year) used to answer the question\",\n",
    "    ]\n",
    "\n",
    "# Define state for application (modified)\n",
    "class State(TypedDict):\n",
    "    question: str\n",
    "    context: List[Document]\n",
    "    answer: AnswerWithSources\n",
    "\n",
    "# Define application steps \n",
    "def retrieve(state: State):  # (the Same)\n",
    "    retrieved_docs = vector_store.similarity_search(state[\"question\"])\n",
    "    return {\"context\": retrieved_docs}\n",
    "\n",
    "def generate(state: State):    #(modified)\n",
    "    docs_content = \"\\n\\n\".join(doc.page_content for doc in state[\"context\"])\n",
    "    messages = prompt.invoke({\"question\": state[\"question\"], \"context\": docs_content})\n",
    "    structured_llm = llm.with_structured_output(AnswerWithSources)\n",
    "    response = structured_llm.invoke(messages)\n",
    "    return {\"answer\": response.content}\n",
    "\n",
    "# Compile application and test (the Same)\n",
    "graph_builder = StateGraph(State).add_sequence([retrieve, generate])\n",
    "graph_builder.add_edge(START, \"retrieve\")\n",
    "graph = graph_builder.compile()"
   ]
  },
  {
   "cell_type": "code",
   "execution_count": 48,
   "id": "1e0b1fc5",
   "metadata": {},
   "outputs": [
    {
     "data": {
      "image/png": "[encoded data removed]",
      "text/plain": [
       "<IPython.core.display.Image object>"
      ]
     },
     "metadata": {},
     "output_type": "display_data"
    }
   ],
   "source": [
    "from IPython.display import Image, display\n",
    "\n",
    "display(Image(graph.get_graph().draw_mermaid_png()))"
   ]
  },
  {
   "cell_type": "code",
   "execution_count": null,
   "id": "2ed67873",
   "metadata": {},
   "outputs": [],
   "source": [
    "import json\n",
    "\n",
    "result = graph.invoke({\"question\": \"What is Total net sales in 2020 in Apple Inc.?\"}) # answer should be with Sources\n",
    "print(json.dumps(result[\"answer\"], indent=2))\n"
   ]
  },
  {
   "cell_type": "code",
   "execution_count": 51,
   "id": "bf2d7299",
   "metadata": {},
   "outputs": [],
   "source": [
    "# Conversational RAG: additional tool-calling features of chat models, a \"back-and-forth\" conversational user experience.\n",
    "from langchain_core.tools import tool\n",
    "\n",
    "\n",
    "@tool(response_format=\"content_and_artifact\")\n",
    "def retrieve(query: str):\n",
    "    \"\"\"Retrieve information related to a query.\"\"\"\n",
    "    retrieved_docs = vector_store.similarity_search(query, k=2)\n",
    "    serialized = \"\\n\\n\".join(\n",
    "        (f\"Source: {doc.metadata}\\n\" f\"Content: {doc.page_content}\")\n",
    "        for doc in retrieved_docs\n",
    "    )\n",
    "    return serialized, retrieved_docs"
   ]
  },
  {
   "cell_type": "code",
   "execution_count": 52,
   "id": "742a302b",
   "metadata": {},
   "outputs": [],
   "source": [
    "# build and compile the exact same application with 2 changes:\n",
    "# 1. add a context key of the state to store retrieved documents;\n",
    "# 2. In the generate step, we pluck out the retrieved documents and populate them in the state.\n",
    "from langchain_core.messages import SystemMessage\n",
    "from langgraph.graph import END, MessagesState, StateGraph\n",
    "from langgraph.prebuilt import ToolNode, tools_condition\n",
    "\n",
    "\n",
    "class State(MessagesState):\n",
    "    context: List[Document] # change 1\n",
    "\n",
    "\n",
    "# Step 1: Generate an AIMessage that may include a tool-call to be sent.\n",
    "def query_or_respond(state: State):\n",
    "    \"\"\"Generate tool call for retrieval or respond.\"\"\"\n",
    "    llm_with_tools = llm.bind_tools([retrieve])\n",
    "    response = llm_with_tools.invoke(state[\"messages\"])\n",
    "    # MessagesState appends messages to state instead of overwriting\n",
    "    return {\"messages\": [response]}\n",
    "\n",
    "\n",
    "# Step 2: Execute the retrieval.\n",
    "tools = ToolNode([retrieve])\n",
    "\n",
    "\n",
    "# Step 3: Generate a response using the retrieved content.\n",
    "def generate(state: MessagesState):\n",
    "    \"\"\"Generate answer.\"\"\"\n",
    "    # Get generated ToolMessages\n",
    "    recent_tool_messages = []\n",
    "    for message in reversed(state[\"messages\"]):\n",
    "        if message.type == \"tool\":\n",
    "            recent_tool_messages.append(message)\n",
    "        else:\n",
    "            break\n",
    "    tool_messages = recent_tool_messages[::-1]\n",
    "\n",
    "    # Format into prompt\n",
    "    docs_content = \"\\n\\n\".join(doc.content for doc in tool_messages)\n",
    "    system_message_content = (\n",
    "        \"You are an assistant for question-answering tasks. \"\n",
    "        \"Use the following pieces of retrieved context to answer \"\n",
    "        \"the question. If you don't know the answer, say that you \"\n",
    "        \"don't know. Use three sentences maximum and keep the \"\n",
    "        \"answer concise.\"\n",
    "        \"\\n\\n\"\n",
    "        f\"{docs_content}\"\n",
    "    )\n",
    "    conversation_messages = [\n",
    "        message\n",
    "        for message in state[\"messages\"]\n",
    "        if message.type in (\"human\", \"system\")\n",
    "        or (message.type == \"ai\" and not message.tool_calls)\n",
    "    ]\n",
    "    prompt = [SystemMessage(system_message_content)] + conversation_messages\n",
    "\n",
    "    # Run\n",
    "    response = llm.invoke(prompt)\n",
    "    context = []\n",
    "    for tool_message in tool_messages:                  # change 2\n",
    "        context.extend(tool_message.artifact)\n",
    "    return {\"messages\": [response], \"context\": context}"
   ]
  },
  {
   "cell_type": "code",
   "execution_count": 53,
   "id": "e8abb498",
   "metadata": {},
   "outputs": [],
   "source": [
    "# compile the application as before:\n",
    "graph_builder = StateGraph(MessagesState)\n",
    "\n",
    "graph_builder.add_node(query_or_respond)\n",
    "graph_builder.add_node(tools)\n",
    "graph_builder.add_node(generate)\n",
    "\n",
    "graph_builder.set_entry_point(\"query_or_respond\")\n",
    "graph_builder.add_conditional_edges(\n",
    "    \"query_or_respond\",\n",
    "    tools_condition,\n",
    "    {END: END, \"tools\": \"tools\"},\n",
    ")\n",
    "graph_builder.add_edge(\"tools\", \"generate\")\n",
    "graph_builder.add_edge(\"generate\", END)\n",
    "\n",
    "graph = graph_builder.compile()"
   ]
  },
  {
   "cell_type": "code",
   "execution_count": 54,
   "id": "63e2c674",
   "metadata": {},
   "outputs": [
    {
     "data": {
      "image/png": "[encoded data removed]",
      "text/plain": [
       "<IPython.core.display.Image object>"
      ]
     },
     "metadata": {},
     "output_type": "display_data"
    }
   ],
   "source": [
    "display(Image(graph.get_graph().draw_mermaid_png()))"
   ]
  },
  {
   "cell_type": "code",
   "execution_count": 59,
   "id": "e7b31fbf",
   "metadata": {},
   "outputs": [
    {
     "name": "stdout",
     "output_type": "stream",
     "text": [
      "================================\u001b[1m Human Message \u001b[0m=================================\n",
      "\n",
      "What is Total net sales in 2020 in Apple Inc.?\n",
      "==================================\u001b[1m Ai Message \u001b[0m==================================\n",
      "Tool Calls:\n",
      "  retrieve (b11a8ad7-c7cc-4585-b22f-1518b8b2b704)\n",
      " Call ID: b11a8ad7-c7cc-4585-b22f-1518b8b2b704\n",
      "  Args:\n",
      "    query: Total net sales in 2020 in Apple Inc.\n",
      "=================================\u001b[1m Tool Message \u001b[0m=================================\n",
      "Name: retrieve\n",
      "\n",
      "Source: {'author': 'anonymous', 'creationdate': '2022-10-27T16:05:06+00:00', 'creator': 'Workiva', 'moddate': '2022-10-27T16:05:06+00:00', 'page': 39, 'page_label': '40', 'producer': 'Wdesk Fidelity Content Translations Version 006.012.078', 'source': 'D:\\\\4-IntoCode\\\\16_LangChain\\\\AgilProjekt_multiModel\\\\Raw_Data\\\\Apple\\\\10-K-2022.pdf', 'title': '10-K 2022, 09.24.2022-2022-10-27-08-59', 'total_pages': 80}\n",
      "Content: 2022 2021 2020\n",
      "iPhone (1) $ 205,489 $ 191,973 $ 137,781 \n",
      "Mac (1)  40,177  35,190  28,622 \n",
      "iPad (1)  29,292  31,862  23,724 \n",
      "Wearables, Home and Accessories (1)(2)  41,241  38,367  30,620 \n",
      "Services (3)  78,129  68,425  53,768 \n",
      "Total net sales (4) $ 394,328 $ 365,817 $ 274,515 \n",
      "(1) Products net sales include amortization of the deferred value of unspecified software upgrade rights, which are bundled in \n",
      "the sales price of the respective product.\n",
      "(2) Wearables, Home and Accessories net sales include sales of AirPods, Apple TV, Apple Watch, Beats products, HomePod \n",
      "mini and accessories.\n",
      "(3) Services net sales include sales from the Company’s advertising, AppleCare, cloud, digital content, payment and other \n",
      "services. Services net sales also include amortization of the deferred value of services bundled in the sales price of certain \n",
      "products.\n",
      "(4) Includes $7.5 billion of revenue recognized in 2022 that was included in deferred revenue as of September 25, 2021, $6.7\n",
      "\n",
      "Source: {'author': 'anonymous', 'creationdate': '2022-10-27T16:05:06+00:00', 'creator': 'Workiva', 'moddate': '2022-10-27T16:05:06+00:00', 'page': 39, 'page_label': '40', 'producer': 'Wdesk Fidelity Content Translations Version 006.012.078', 'source': 'D:\\\\4-IntoCode\\\\16_LangChain\\\\AgilProjekt_multiModel\\\\Raw_Data\\\\Apple\\\\10-K-2022.pdf', 'title': '10-K 2022, 09.24.2022-2022-10-27-08-59', 'total_pages': 80}\n",
      "Content: 2022 2021 2020\n",
      "iPhone (1) $ 205,489 $ 191,973 $ 137,781 \n",
      "Mac (1)  40,177  35,190  28,622 \n",
      "iPad (1)  29,292  31,862  23,724 \n",
      "Wearables, Home and Accessories (1)(2)  41,241  38,367  30,620 \n",
      "Services (3)  78,129  68,425  53,768 \n",
      "Total net sales (4) $ 394,328 $ 365,817 $ 274,515 \n",
      "(1) Products net sales include amortization of the deferred value of unspecified software upgrade rights, which are bundled in \n",
      "the sales price of the respective product.\n",
      "(2) Wearables, Home and Accessories net sales include sales of AirPods, Apple TV, Apple Watch, Beats products, HomePod \n",
      "mini and accessories.\n",
      "(3) Services net sales include sales from the Company’s advertising, AppleCare, cloud, digital content, payment and other \n",
      "services. Services net sales also include amortization of the deferred value of services bundled in the sales price of certain \n",
      "products.\n",
      "(4) Includes $7.5 billion of revenue recognized in 2022 that was included in deferred revenue as of September 25, 2021, $6.7\n",
      "==================================\u001b[1m Ai Message \u001b[0m==================================\n",
      "\n",
      "Total net sales in 2020 in Apple Inc. were $274,515. This number is listed in the provided document.\n"
     ]
    }
   ],
   "source": [
    "# Invoking our application, the retrieved Document objects are accessible from the application state.\n",
    "input_message = \"What is Total net sales in 2020 in Apple Inc.?\" # ask the same question, the answer should be with ToolMessage\n",
    "\n",
    "for step in graph.stream(\n",
    "    {\"messages\": [{\"role\": \"user\", \"content\": input_message}]},\n",
    "    stream_mode=\"values\",\n",
    "):\n",
    "    step[\"messages\"][-1].pretty_print()"
   ]
  },
  {
   "cell_type": "code",
   "execution_count": null,
   "id": "cb83c1fa",
   "metadata": {},
   "outputs": [],
   "source": [
    "# Results: \"Total net sales in 2020 was $274,515\" is correct. You can find this Info in 10-K-2022.pdf, page 40.\n",
    "'''================================ Human Message =================================\n",
    "\n",
    "What is Total net sales in 2020 in Apple Inc.?\n",
    "================================== Ai Message ==================================\n",
    "Tool Calls:\n",
    "  retrieve (b11a8ad7-c7cc-4585-b22f-1518b8b2b704)\n",
    " Call ID: b11a8ad7-c7cc-4585-b22f-1518b8b2b704\n",
    "  Args:\n",
    "    query: Total net sales in 2020 in Apple Inc.\n",
    "================================= Tool Message =================================\n",
    "Name: retrieve\n",
    "\n",
    "Source: {'author': 'anonymous', 'creationdate': '2022-10-27T16:05:06+00:00', 'creator': 'Workiva', 'moddate': '2022-10-27T16:05:06+00:00', 'page': 39, 'page_label': '40', 'producer': 'Wdesk Fidelity Content Translations Version 006.012.078', 'source': 'D:\\\\4-IntoCode\\\\16_LangChain\\\\AgilProjekt_multiModel\\\\Raw_Data\\\\Apple\\\\10-K-2022.pdf', 'title': '10-K 2022, 09.24.2022-2022-10-27-08-59', 'total_pages': 80}\n",
    "Content: 2022 2021 2020\n",
    "iPhone (1) $ 205,489 $ 191,973 $ 137,781 \n",
    "Mac (1)  40,177  35,190  28,622 \n",
    "iPad (1)  29,292  31,862  23,724 \n",
    "Wearables, Home and Accessories (1)(2)  41,241  38,367  30,620 \n",
    "Services (3)  78,129  68,425  53,768 \n",
    "Total net sales (4) $ 394,328 $ 365,817 $ 274,515 \n",
    "(1) Products net sales include amortization of the deferred value of unspecified software upgrade rights, which are bundled in \n",
    "the sales price of the respective product.\n",
    "(2) Wearables, Home and Accessories net sales include sales of AirPods, Apple TV, Apple Watch, Beats products, HomePod \n",
    "mini and accessories.\n",
    "(3) Services net sales include sales from the Company’s advertising, AppleCare, cloud, digital content, payment and other \n",
    "...\n",
    "(4) Includes $7.5 billion of revenue recognized in 2022 that was included in deferred revenue as of September 25, 2021, $6.7\n",
    "================================== Ai Message ==================================\n",
    "\n",
    "Total net sales in 2020 in Apple Inc. were $274,515. This number is listed in the provided document.'''\n"
   ]
  },
  {
   "cell_type": "code",
   "execution_count": 60,
   "id": "ea58584f",
   "metadata": {},
   "outputs": [
    {
     "data": {
      "text/plain": [
       "[Document(id='5266b8c1-a6c1-468f-8a95-ddd18341c7eb', metadata={'author': 'anonymous', 'creationdate': '2022-10-27T16:05:06+00:00', 'creator': 'Workiva', 'moddate': '2022-10-27T16:05:06+00:00', 'page': 39, 'page_label': '40', 'producer': 'Wdesk Fidelity Content Translations Version 006.012.078', 'source': 'D:\\\\4-IntoCode\\\\16_LangChain\\\\AgilProjekt_multiModel\\\\Raw_Data\\\\Apple\\\\10-K-2022.pdf', 'title': '10-K 2022, 09.24.2022-2022-10-27-08-59', 'total_pages': 80}, page_content='2022 2021 2020\\niPhone (1) $ 205,489 $ 191,973 $ 137,781 \\nMac (1)  40,177  35,190  28,622 \\niPad (1)  29,292  31,862  23,724 \\nWearables, Home and Accessories (1)(2)  41,241  38,367  30,620 \\nServices (3)  78,129  68,425  53,768 \\nTotal net sales (4) $ 394,328 $ 365,817 $ 274,515 \\n(1) Products net sales include amortization of the deferred value of unspecified software upgrade rights, which are bundled in \\nthe sales price of the respective product.\\n(2) Wearables, Home and Accessories net sales include sales of AirPods, Apple TV, Apple Watch, Beats products, HomePod \\nmini and accessories.\\n(3) Services net sales include sales from the Company’s advertising, AppleCare, cloud, digital content, payment and other \\nservices. Services net sales also include amortization of the deferred value of services bundled in the sales price of certain \\nproducts.\\n(4) Includes $7.5 billion of revenue recognized in 2022 that was included in deferred revenue as of September\\xa025, 2021, $6.7'),\n",
       " Document(id='a481c16a-26b0-4da5-9d33-461d16c72f43', metadata={'author': 'anonymous', 'creationdate': '2022-10-27T16:05:06+00:00', 'creator': 'Workiva', 'moddate': '2022-10-27T16:05:06+00:00', 'page': 39, 'page_label': '40', 'producer': 'Wdesk Fidelity Content Translations Version 006.012.078', 'source': 'D:\\\\4-IntoCode\\\\16_LangChain\\\\AgilProjekt_multiModel\\\\Raw_Data\\\\Apple\\\\10-K-2022.pdf', 'title': '10-K 2022, 09.24.2022-2022-10-27-08-59', 'total_pages': 80}, page_content='2022 2021 2020\\niPhone (1) $ 205,489 $ 191,973 $ 137,781 \\nMac (1)  40,177  35,190  28,622 \\niPad (1)  29,292  31,862  23,724 \\nWearables, Home and Accessories (1)(2)  41,241  38,367  30,620 \\nServices (3)  78,129  68,425  53,768 \\nTotal net sales (4) $ 394,328 $ 365,817 $ 274,515 \\n(1) Products net sales include amortization of the deferred value of unspecified software upgrade rights, which are bundled in \\nthe sales price of the respective product.\\n(2) Wearables, Home and Accessories net sales include sales of AirPods, Apple TV, Apple Watch, Beats products, HomePod \\nmini and accessories.\\n(3) Services net sales include sales from the Company’s advertising, AppleCare, cloud, digital content, payment and other \\nservices. Services net sales also include amortization of the deferred value of services bundled in the sales price of certain \\nproducts.\\n(4) Includes $7.5 billion of revenue recognized in 2022 that was included in deferred revenue as of September\\xa025, 2021, $6.7')]"
      ]
     },
     "execution_count": 60,
     "metadata": {},
     "output_type": "execute_result"
    }
   ],
   "source": [
    "step[\"context\"]"
   ]
  },
  {
   "cell_type": "code",
   "execution_count": null,
   "id": "8061015b",
   "metadata": {},
   "outputs": [],
   "source": [
    "# Read Resource 2. <How to get a RAG application to add citations?> (https://python.langchain.com/docs/how_to/qa_citations/)\n",
    "# get a model to cite which parts of the source documents it referenced in generating its response.\n",
    "# Method: Using tool-calling to cite document IDs;\n",
    "# In the article, the author uses WikipediaRetriever, but we can use our own vector store.\n"
   ]
  },
  {
   "cell_type": "code",
   "execution_count": 93,
   "id": "458652ae",
   "metadata": {},
   "outputs": [
    {
     "name": "stdout",
     "output_type": "stream",
     "text": [
      "================================\u001b[1m System Message \u001b[0m================================\n",
      "\n",
      "You're a helpful AI assistant. Given a user question and some PDF article snippets, answer the user question. If none of the articles answer the question, just say you don't know.\n",
      "\n",
      "Here are the PDF articles: \u001b[33;1m\u001b[1;3m{context}\u001b[0m\n",
      "\n",
      "================================\u001b[1m Human Message \u001b[0m=================================\n",
      "\n",
      "\u001b[33;1m\u001b[1;3m{question}\u001b[0m\n"
     ]
    }
   ],
   "source": [
    "# load a retriever and construct our prompt:\n",
    "from langchain_core.prompts import ChatPromptTemplate\n",
    "\n",
    "system_prompt = (\n",
    "    \"You're a helpful AI assistant. Given a user question \"\n",
    "    \"and some PDF article snippets, answer the user \"\n",
    "    \"question. If none of the articles answer the question, \"\n",
    "    \"just say you don't know.\"\n",
    "    \"\\n\\nHere are the PDF articles: \"\n",
    "    \"{context}\"\n",
    ")\n",
    "\n",
    "retriever=vector_store.as_retriever() # use our own vector store\n",
    "retriever.search_kwargs[\"k\"] = 4  # number of documents to retrieve\n",
    "\n",
    "prompt = ChatPromptTemplate.from_messages(\n",
    "    [\n",
    "        (\"system\", system_prompt),\n",
    "        (\"human\", \"{question}\"),\n",
    "    ]\n",
    ")\n",
    "prompt.pretty_print()"
   ]
  },
  {
   "cell_type": "code",
   "execution_count": 94,
   "id": "024c4b0d",
   "metadata": {},
   "outputs": [],
   "source": [
    "# adding citations to a RAG application\n",
    "from langchain_core.documents import Document\n",
    "from langgraph.graph import START, StateGraph\n",
    "from typing_extensions import List, TypedDict\n",
    "\n",
    "\n",
    "# Define state for application\n",
    "class State(TypedDict):\n",
    "    question: str\n",
    "    context: List[Document]\n",
    "    answer: str\n",
    "\n",
    "\n",
    "# Define application steps\n",
    "def retrieve(state: State):\n",
    "    retrieved_docs = retriever.invoke(state[\"question\"])\n",
    "    return {\"context\": retrieved_docs}\n",
    "\n",
    "\n",
    "def generate(state: State):\n",
    "    docs_content = \"\\n\\n\".join(doc.page_content for doc in state[\"context\"])\n",
    "    messages = prompt.invoke({\"question\": state[\"question\"], \"context\": docs_content})\n",
    "    response = llm.invoke(messages)\n",
    "    return {\"answer\": response.content}\n",
    "\n",
    "\n",
    "# Compile application and test\n",
    "graph_builder = StateGraph(State).add_sequence([retrieve, generate])\n",
    "graph_builder.add_edge(START, \"retrieve\")\n",
    "graph = graph_builder.compile()"
   ]
  },
  {
   "cell_type": "code",
   "execution_count": 95,
   "id": "cb65b1bc",
   "metadata": {},
   "outputs": [
    {
     "name": "stdout",
     "output_type": "stream",
     "text": [
      "Sources: ['D:\\\\4-IntoCode\\\\16_LangChain\\\\AgilProjekt_multiModel\\\\Raw_Data\\\\Apple\\\\10-K-2024.pdf', 'D:\\\\4-IntoCode\\\\16_LangChain\\\\AgilProjekt_multiModel\\\\Raw_Data\\\\Apple\\\\10-K-2024.pdf', 'D:\\\\4-IntoCode\\\\16_LangChain\\\\AgilProjekt_multiModel\\\\Raw_Data\\\\Apple\\\\10-K-2024.pdf', 'D:\\\\4-IntoCode\\\\16_LangChain\\\\AgilProjekt_multiModel\\\\Raw_Data\\\\Apple\\\\10-K-2022.pdf']\n",
      "\n",
      "\n",
      "Answer: Total net sales in 2020 for Apple Inc. was $274,515.\n"
     ]
    }
   ],
   "source": [
    "result = graph.invoke({\"question\": \"What is Total net sales in 2020 in Apple Inc.?\"})\n",
    "\n",
    "sources = [doc.metadata[\"source\"] for doc in result[\"context\"]]\n",
    "print(f\"Sources: {sources}\\n\\n\")\n",
    "print(f'Answer: {result[\"answer\"]}')"
   ]
  },
  {
   "cell_type": "code",
   "execution_count": null,
   "id": "ca4f6560",
   "metadata": {},
   "outputs": [],
   "source": [
    "# Result::\n",
    "'''Sources: ['D:\\\\4-IntoCode\\\\16_LangChain\\\\AgilProjekt_multiModel\\\\Raw_Data\\\\Apple\\\\10-K-2024.pdf', 'D:\\\\4-IntoCode\\\\16_LangChain\\\\AgilProjekt_multiModel\\\\Raw_Data\\\\Apple\\\\10-K-2024.pdf', 'D:\\\\4-IntoCode\\\\16_LangChain\\\\AgilProjekt_multiModel\\\\Raw_Data\\\\Apple\\\\10-K-2024.pdf', 'D:\\\\4-IntoCode\\\\16_LangChain\\\\AgilProjekt_multiModel\\\\Raw_Data\\\\Apple\\\\10-K-2022.pdf']\n",
    "\n",
    "\n",
    "Answer: Total net sales in 2020 for Apple Inc. was $274,515.'''"
   ]
  },
  {
   "cell_type": "code",
   "execution_count": 96,
   "id": "66e31e36",
   "metadata": {},
   "outputs": [],
   "source": [
    "def format_docs_with_id(docs: List[Document]) -> str:\n",
    "    formatted = [\n",
    "        f\"Source ID: {i}\\nArticle Title: {doc.metadata['title']}\\nArticle Snippet: {doc.page_content}\"\n",
    "        for i, doc in enumerate(docs)\n",
    "    ]\n",
    "    return \"\\n\\n\" + \"\\n\\n\".join(formatted)\n",
    "\n",
    "\n",
    "class State(TypedDict):\n",
    "    question: str\n",
    "    context: List[Document]\n",
    "    answer: CitedAnswer\n",
    "\n",
    "\n",
    "def generate(state: State):\n",
    "    formatted_docs = format_docs_with_id(state[\"context\"])\n",
    "    messages = prompt.invoke({\"question\": state[\"question\"], \"context\": formatted_docs})\n",
    "    structured_llm = llm.with_structured_output(CitedAnswer)\n",
    "    response = structured_llm.invoke(messages)\n",
    "    return {\"answer\": response}\n",
    "\n",
    "\n",
    "graph_builder = StateGraph(State).add_sequence([retrieve, generate])\n",
    "graph_builder.add_edge(START, \"retrieve\")\n",
    "graph = graph_builder.compile()"
   ]
  },
  {
   "cell_type": "code",
   "execution_count": 97,
   "id": "3f1b7715",
   "metadata": {},
   "outputs": [
    {
     "data": {
      "text/plain": [
       "CitedAnswer(answer='Total net sales in 2020 in Apple Inc. is $ 274,515.', citations=[3])"
      ]
     },
     "execution_count": 97,
     "metadata": {},
     "output_type": "execute_result"
    }
   ],
   "source": [
    "result = graph.invoke({\"question\": \"What is Total net sales in 2020 in Apple Inc.?\"})\n",
    "\n",
    "result[\"answer\"]"
   ]
  },
  {
   "cell_type": "code",
   "execution_count": null,
   "id": "999569b0",
   "metadata": {},
   "outputs": [],
   "source": [
    "# Result:\n",
    "'''CitedAnswer(answer='Total net sales in 2020 in Apple Inc. is $ 274,515.', citations=[3])'''"
   ]
  },
  {
   "cell_type": "code",
   "execution_count": 99,
   "id": "0dc6d41a",
   "metadata": {},
   "outputs": [
    {
     "name": "stdout",
     "output_type": "stream",
     "text": [
      "page_content='2022 2021 2020\n",
      "iPhone (1) $ 205,489 $ 191,973 $ 137,781 \n",
      "Mac (1)  40,177  35,190  28,622 \n",
      "iPad (1)  29,292  31,862  23,724 \n",
      "Wearables, Home and Accessories (1)(2)  41,241  38,367  30,620 \n",
      "Services (3)  78,129  68,425  53,768 \n",
      "Total net sales (4) $ 394,328 $ 365,817 $ 274,515 \n",
      "(1) Products net sales include amortization of the deferred value of unspecified software upgrade rights, which are bundled in \n",
      "the sales price of the respective product.\n",
      "(2) Wearables, Home and Accessories net sales include sales of AirPods, Apple TV, Apple Watch, Beats products, HomePod \n",
      "mini and accessories.\n",
      "(3) Services net sales include sales from the Company’s advertising, AppleCare, cloud, digital content, payment and other \n",
      "services. Services net sales also include amortization of the deferred value of services bundled in the sales price of certain \n",
      "products.\n",
      "(4) Includes $7.5 billion of revenue recognized in 2022 that was included in deferred revenue as of September 25, 2021, $6.7' metadata={'author': 'anonymous', 'creationdate': '2022-10-27T16:05:06+00:00', 'creator': 'Workiva', 'moddate': '2022-10-27T16:05:06+00:00', 'page': 39, 'page_label': '40', 'producer': 'Wdesk Fidelity Content Translations Version 006.012.078', 'source': 'D:\\\\4-IntoCode\\\\16_LangChain\\\\AgilProjekt_multiModel\\\\Raw_Data\\\\Apple\\\\10-K-2022.pdf', 'title': '10-K 2022, 09.24.2022-2022-10-27-08-59', 'total_pages': 80}\n"
     ]
    }
   ],
   "source": [
    "print(result[\"context\"][3])"
   ]
  }
 ],
 "metadata": {
  "kernelspec": {
   "display_name": "Python 3",
   "language": "python",
   "name": "python3"
  },
  "language_info": {
   "codemirror_mode": {
    "name": "ipython",
    "version": 3
   },
   "file_extension": ".py",
   "mimetype": "text/x-python",
   "name": "python",
   "nbconvert_exporter": "python",
   "pygments_lexer": "ipython3",
   "version": "3.13.0"
  }
 },
 "nbformat": 4,
 "nbformat_minor": 5
}
